{
  "nbformat": 4,
  "nbformat_minor": 0,
  "metadata": {
    "colab": {
      "name": "StuyHacksXIPythonWorkshop.ipynb",
      "provenance": [],
      "include_colab_link": true
    },
    "kernelspec": {
      "name": "python3",
      "display_name": "Python 3"
    },
    "language_info": {
      "name": "python"
    }
  },
  "cells": [
    {
      "cell_type": "markdown",
      "metadata": {
        "id": "view-in-github",
        "colab_type": "text"
      },
      "source": [
        "<a href=\"https://colab.research.google.com/github/ankita320/A-Cool-Advent-Calendar/blob/main/StuyHacksXIPythonWorkshop.ipynb\" target=\"_parent\"><img src=\"https://colab.research.google.com/assets/colab-badge.svg\" alt=\"Open In Colab\"/></a>"
      ]
    },
    {
      "cell_type": "code",
      "source": [
        "i = 5       # integer\n",
        "f = 5.5     # float/double\n",
        "s = 'hello' # string\n",
        "b = False   # boolean"
      ],
      "metadata": {
        "id": "zRjMyE48cTpH"
      },
      "execution_count": null,
      "outputs": []
    },
    {
      "cell_type": "code",
      "source": [
        "if not b:\n",
        "  print('no')"
      ],
      "metadata": {
        "colab": {
          "base_uri": "https://localhost:8080/"
        },
        "id": "r9S872bCj7vw",
        "outputId": "edbbcaf9-d1c3-444b-ce91-50d501c5400d"
      },
      "execution_count": null,
      "outputs": [
        {
          "output_type": "stream",
          "name": "stdout",
          "text": [
            "no\n"
          ]
        }
      ]
    },
    {
      "cell_type": "code",
      "source": [
        "ftoi = int(f) # convert f from a float to an integer\n",
        "print(ftoi)\n",
        "\n",
        "# int from float cuts off anything after the decimal point, regardless of whether we should round up or down\n",
        "# [FLOOR]"
      ],
      "metadata": {
        "colab": {
          "base_uri": "https://localhost:8080/"
        },
        "id": "KfyVLaWdgRF0",
        "outputId": "47b70d01-a6c6-433c-d8d4-b1efa1eb1fa7"
      },
      "execution_count": null,
      "outputs": [
        {
          "output_type": "stream",
          "name": "stdout",
          "text": [
            "5\n"
          ]
        }
      ]
    },
    {
      "cell_type": "code",
      "source": [
        "intstring = '5'\n",
        "print(type(intstring))\n",
        "stoi = int(intstring) # convert intstring from a string to an integer\n",
        "\n",
        "print(type(stoi))"
      ],
      "metadata": {
        "colab": {
          "base_uri": "https://localhost:8080/"
        },
        "id": "a5a3wHwEgxlJ",
        "outputId": "91d9386e-237a-4fdd-d1a8-7ba737372693"
      },
      "execution_count": null,
      "outputs": [
        {
          "output_type": "stream",
          "name": "stdout",
          "text": [
            "<class 'str'>\n",
            "<class 'int'>\n"
          ]
        }
      ]
    },
    {
      "cell_type": "code",
      "source": [
        "i+f # addition"
      ],
      "metadata": {
        "colab": {
          "base_uri": "https://localhost:8080/"
        },
        "id": "jO0fJNothOpD",
        "outputId": "7afbe1f1-2683-4de1-9eca-ad23af8b67af"
      },
      "execution_count": null,
      "outputs": [
        {
          "output_type": "execute_result",
          "data": {
            "text/plain": [
              "10.5"
            ]
          },
          "metadata": {},
          "execution_count": 15
        }
      ]
    },
    {
      "cell_type": "code",
      "source": [
        "i-f # subtraction"
      ],
      "metadata": {
        "colab": {
          "base_uri": "https://localhost:8080/"
        },
        "id": "673Rbwn-hgHD",
        "outputId": "c1998503-fd7c-41f2-8ed4-8e4159ee01f6"
      },
      "execution_count": null,
      "outputs": [
        {
          "output_type": "execute_result",
          "data": {
            "text/plain": [
              "-0.5"
            ]
          },
          "metadata": {},
          "execution_count": 16
        }
      ]
    },
    {
      "cell_type": "code",
      "source": [
        "s1 = 'hello'\n",
        "s2 = 'world'\n",
        "s1 + ' ' + s2 # concatenation"
      ],
      "metadata": {
        "colab": {
          "base_uri": "https://localhost:8080/",
          "height": 35
        },
        "id": "zBr84NO3hilR",
        "outputId": "7377d1e1-cff1-43f2-89b2-fbefe5496c3b"
      },
      "execution_count": null,
      "outputs": [
        {
          "output_type": "execute_result",
          "data": {
            "application/vnd.google.colaboratory.intrinsic+json": {
              "type": "string"
            },
            "text/plain": [
              "'hello world'"
            ]
          },
          "metadata": {},
          "execution_count": 17
        }
      ]
    },
    {
      "cell_type": "code",
      "source": [
        "for character in s: # goes thru each character of s (one at a time, without skipping)\n",
        "  print(character)\n",
        "\n",
        "# h\n",
        "# e\n",
        "# l\n",
        "# l\n",
        "# o"
      ],
      "metadata": {
        "colab": {
          "base_uri": "https://localhost:8080/"
        },
        "id": "wecFCDBihsba",
        "outputId": "a3955f9e-2bac-45f5-ab7f-461c149b098b"
      },
      "execution_count": null,
      "outputs": [
        {
          "output_type": "stream",
          "name": "stdout",
          "text": [
            "h\n",
            "e\n",
            "l\n",
            "l\n",
            "o\n"
          ]
        }
      ]
    },
    {
      "cell_type": "code",
      "source": [
        "# len(s) -> length of string s [in this case 5]\n",
        "# range(n) -> gives you a group of numbers to loop over\n",
        "# range(5) -> 0, 1, 2, 3, 4\n",
        "for index in range(len(s)):\n",
        "  print(index)\n",
        "  print(s[index])"
      ],
      "metadata": {
        "colab": {
          "base_uri": "https://localhost:8080/"
        },
        "id": "wKSNxRaMiFgi",
        "outputId": "6b3c34a8-7358-4470-f13d-9686cf7b16e0"
      },
      "execution_count": null,
      "outputs": [
        {
          "output_type": "stream",
          "name": "stdout",
          "text": [
            "0\n",
            "h\n",
            "1\n",
            "e\n",
            "2\n",
            "l\n",
            "3\n",
            "l\n",
            "4\n",
            "o\n"
          ]
        }
      ]
    },
    {
      "cell_type": "code",
      "source": [
        "# len(s) -> length of string s [in this case 5]\n",
        "# range(n) -> gives you a group of numbers to loop over\n",
        "# range(4) -> 0, 1, 2, 3\n",
        "for index in range(len(s) - 1):\n",
        "  print(s[index] + s[index + 1])"
      ],
      "metadata": {
        "colab": {
          "base_uri": "https://localhost:8080/"
        },
        "id": "AdctaWpLiugh",
        "outputId": "7692b422-078e-4ccb-c435-5d230c70ebf3"
      },
      "execution_count": null,
      "outputs": [
        {
          "output_type": "stream",
          "name": "stdout",
          "text": [
            "he\n",
            "el\n",
            "ll\n",
            "lo\n"
          ]
        }
      ]
    },
    {
      "cell_type": "code",
      "source": [
        "# len(s) -> length of string s [in this case 5]\n",
        "# range(n) -> gives you a group of numbers to loop over\n",
        "# range(4) -> 0, 1, 2, 3\n",
        "for index in range(len(s) - 1):\n",
        "  if s[index] == s[index + 1]: # check if 2 characters in a row are the same\n",
        "    print(\"2 CHARS IN A ROW\")\n",
        "    print(s[index] + s[index + 1])\n",
        "\n",
        "# he\n",
        "# el\n",
        "# ll <- enter the if statement here [prints stuff]\n",
        "# lo"
      ],
      "metadata": {
        "colab": {
          "base_uri": "https://localhost:8080/"
        },
        "id": "Wm5Xl2fakPWe",
        "outputId": "35eecfe9-a5ad-4b63-f610-8d6fee520523"
      },
      "execution_count": null,
      "outputs": [
        {
          "output_type": "stream",
          "name": "stdout",
          "text": [
            "2 CHARS IN A ROW\n",
            "ll\n"
          ]
        }
      ]
    },
    {
      "cell_type": "code",
      "source": [
        "# len(s) -> length of string s [in this case 5]\n",
        "# range(n) -> gives you a group of numbers to loop over\n",
        "# range(4) -> 0, 1, 2, 3\n",
        "for index in range(len(s) - 1):\n",
        "  if s[index] == s[index + 1]: # check if 2 characters in a row are the same\n",
        "    print(\"2 CHARS IN A ROW\")\n",
        "    print(s[index] + s[index + 1])\n",
        "\n",
        "  if s[index] != s[index + 1]: # check if 2 characters in a row are different\n",
        "    print(\"2 CHARS NOT IN A ROW\")\n",
        "    print(s[index] + s[index + 1])"
      ],
      "metadata": {
        "colab": {
          "base_uri": "https://localhost:8080/"
        },
        "id": "C-WRJ_D9i58c",
        "outputId": "5573fd18-8790-46b8-d305-cf5410e70e99"
      },
      "execution_count": null,
      "outputs": [
        {
          "output_type": "stream",
          "name": "stdout",
          "text": [
            "2 CHARS NOT IN A ROW\n",
            "he\n",
            "2 CHARS NOT IN A ROW\n",
            "el\n",
            "2 CHARS IN A ROW\n",
            "ll\n",
            "2 CHARS NOT IN A ROW\n",
            "lo\n"
          ]
        }
      ]
    },
    {
      "cell_type": "code",
      "source": [
        "inputstring = input(\"type string here: \")\n",
        "\n",
        "for index in range(len(inputstring) - 1):\n",
        "  if inputstring[index] == inputstring[index + 1]:\n",
        "    print(\"2 CHARS IN A ROW\")\n",
        "    print(inputstring[index] + inputstring[index + 1])\n",
        "\n",
        "# bi\n",
        "# il\n",
        "# ll <- enter the if statement here [prints stuff]"
      ],
      "metadata": {
        "colab": {
          "base_uri": "https://localhost:8080/"
        },
        "id": "Z59N-m4FjcX4",
        "outputId": "e391992b-6ea0-4142-e085-90073836a274"
      },
      "execution_count": null,
      "outputs": [
        {
          "output_type": "stream",
          "name": "stdout",
          "text": [
            "type string here: bill\n",
            "2 CHARS IN A ROW\n",
            "ll\n"
          ]
        }
      ]
    },
    {
      "cell_type": "code",
      "source": [
        "#             inputs  [can be nothing]\n",
        "#                |\n",
        "#                v\n",
        "# function -> factory [does something/nothing]\n",
        "#                |\n",
        "#                v\n",
        "#             outputs [can be nothing]\n",
        "\n",
        "def funK(string1, string2):\n",
        "  return string1[0] == string2[0] # returns if first character of each string are the same"
      ],
      "metadata": {
        "id": "0e7aIhUyktii"
      },
      "execution_count": null,
      "outputs": []
    },
    {
      "cell_type": "code",
      "source": [
        "funK('hello', 'world') # h is not w"
      ],
      "metadata": {
        "colab": {
          "base_uri": "https://localhost:8080/"
        },
        "id": "JH_fjW0_lZ8J",
        "outputId": "527ff367-2edf-4fac-da45-06eeb30aaaaa"
      },
      "execution_count": null,
      "outputs": [
        {
          "output_type": "execute_result",
          "data": {
            "text/plain": [
              "False"
            ]
          },
          "metadata": {},
          "execution_count": 33
        }
      ]
    },
    {
      "cell_type": "code",
      "source": [
        "funK('hello', 'hi') # h is h"
      ],
      "metadata": {
        "colab": {
          "base_uri": "https://localhost:8080/"
        },
        "id": "-97ui5vslsY4",
        "outputId": "563d0a43-a5da-4093-be4f-5fb991092d30"
      },
      "execution_count": null,
      "outputs": [
        {
          "output_type": "execute_result",
          "data": {
            "text/plain": [
              "True"
            ]
          },
          "metadata": {},
          "execution_count": 34
        }
      ]
    },
    {
      "cell_type": "code",
      "source": [
        "teststring1 = input('type first string here: ')\n",
        "teststring2 = input('type second string here: ')\n",
        "\n",
        "while teststring1 != 'quit prog' and teststring2 != 'quit prog': # check if teststring1 or teststring2 is equal to 'quit prog', and if so, then quit\n",
        "  print('are first characters the same: ' + str(funK(teststring1, teststring2)))\n",
        "\n",
        "  teststring1 = input('type first string here: ')\n",
        "  teststring2 = input('type second string here: ')\n",
        "\n",
        "# teststring1 == quit prog | teststring2 == quit prog | stop program\n",
        "#                     True |                     True | Yes\n",
        "#                    False |                     True | Yes\n",
        "#                     True |                    False | Yes\n",
        "#                    False |                    False | No"
      ],
      "metadata": {
        "colab": {
          "base_uri": "https://localhost:8080/"
        },
        "id": "jsueeBmdlynI",
        "outputId": "b5efb8e7-e215-432f-98f9-f9cce4458ae3"
      },
      "execution_count": null,
      "outputs": [
        {
          "name": "stdout",
          "output_type": "stream",
          "text": [
            "type first string here: quit prog\n",
            "type second string here: quintessential\n"
          ]
        }
      ]
    },
    {
      "cell_type": "code",
      "source": [
        "teststring1 = input('type first string here: ')\n",
        "teststring2 = input('type second string here: ')\n",
        "\n",
        "while teststring1 == 'quit prog' or teststring2 == 'quit prog': # check if teststring1 or teststring2 is equal to 'quit prog', and if so, then quit\n",
        "  print('are first characters the same: ' + str(funK(teststring1, teststring2))) # print if 2 characters are same\n",
        "\n",
        "  teststring1 = input('type first string here: ') # read input1 again\n",
        "  teststring2 = input('type second string here: ') # read input2 again\n",
        "\n",
        "# teststring1 == quit prog | teststring2 == quit prog | stop program\n",
        "#                     True |                     True | Yes\n",
        "#                    False |                     True | Yes\n",
        "#                     True |                    False | Yes\n",
        "#                    False |                    False | No"
      ],
      "metadata": {
        "id": "q1B_6KWZm734"
      },
      "execution_count": null,
      "outputs": []
    },
    {
      "cell_type": "code",
      "source": [
        "with open('sample_data/README.md', 'r') as f: # reads the file\n",
        "  print(f.read())"
      ],
      "metadata": {
        "colab": {
          "base_uri": "https://localhost:8080/"
        },
        "id": "lFL_JTZNnrxE",
        "outputId": "9fbdbde7-4200-47d6-da34-5d3654198b84"
      },
      "execution_count": null,
      "outputs": [
        {
          "output_type": "stream",
          "name": "stdout",
          "text": [
            "testtest\n"
          ]
        }
      ]
    },
    {
      "cell_type": "code",
      "source": [
        "f = open('sample_data/README.md', 'r') \n",
        "print(f.read())\n",
        "f.close()"
      ],
      "metadata": {
        "colab": {
          "base_uri": "https://localhost:8080/"
        },
        "id": "Wra9zonkn1zF",
        "outputId": "034fd0f1-33a6-4f1a-be4a-b83d7ccce156"
      },
      "execution_count": null,
      "outputs": [
        {
          "output_type": "stream",
          "name": "stdout",
          "text": [
            "test\n"
          ]
        }
      ]
    },
    {
      "cell_type": "code",
      "source": [
        "with open('sample_data/README.md', 'w') as f: # wipes and restarts the file\n",
        "  f.write('test')"
      ],
      "metadata": {
        "id": "w8alhA53oFQ-"
      },
      "execution_count": null,
      "outputs": []
    },
    {
      "cell_type": "code",
      "source": [
        "with open('sample_data/README.md', 'a') as f: # appends to the end of the file\n",
        "  f.write('test')"
      ],
      "metadata": {
        "id": "vba-I2wooNIx"
      },
      "execution_count": null,
      "outputs": []
    },
    {
      "cell_type": "code",
      "source": [
        "l = ['x', 5, 3, 'six'] # list\n",
        "\n",
        "for element in l: # loop thru list\n",
        "  print(element)"
      ],
      "metadata": {
        "colab": {
          "base_uri": "https://localhost:8080/"
        },
        "id": "-df0TynToZ8a",
        "outputId": "3fb0d47b-595d-40d5-e591-4c4a9433cdc3"
      },
      "execution_count": null,
      "outputs": [
        {
          "output_type": "stream",
          "name": "stdout",
          "text": [
            "x\n",
            "5\n",
            "3\n",
            "six\n"
          ]
        }
      ]
    },
    {
      "cell_type": "code",
      "source": [
        "l = ['x', 5, 3, 'six'] # list\n",
        "\n",
        "for index in range(len(l)): # loop thru list\n",
        "  print(index)"
      ],
      "metadata": {
        "colab": {
          "base_uri": "https://localhost:8080/"
        },
        "id": "cLt0HQJUoqx5",
        "outputId": "09683f03-fa6d-4cee-f47a-d1d715fc80f7"
      },
      "execution_count": null,
      "outputs": [
        {
          "output_type": "stream",
          "name": "stdout",
          "text": [
            "0\n",
            "1\n",
            "2\n",
            "3\n"
          ]
        }
      ]
    },
    {
      "cell_type": "code",
      "source": [
        "l = ['x', 5, 3, 'six'] # list\n",
        "\n",
        "for index in range(len(l) - 1): # loop thru list\n",
        "  print(l[index], l[index + 1])"
      ],
      "metadata": {
        "colab": {
          "base_uri": "https://localhost:8080/"
        },
        "id": "sSB_kHPlounI",
        "outputId": "23ece68c-6e50-4308-ac9b-bae04f3792db"
      },
      "execution_count": null,
      "outputs": [
        {
          "output_type": "stream",
          "name": "stdout",
          "text": [
            "x 5\n",
            "5 3\n",
            "3 six\n"
          ]
        }
      ]
    },
    {
      "cell_type": "code",
      "source": [
        "tpl = ('x', 5, 3, 'six') # tuple\n",
        "\n",
        "print(tpl)\n",
        "\n",
        "for index in range(len(tpl) - 1): # loop thru list\n",
        "  print(tpl[index], tpl[index + 1])"
      ],
      "metadata": {
        "colab": {
          "base_uri": "https://localhost:8080/"
        },
        "id": "Womjw4iDo16e",
        "outputId": "8f0b7385-2447-4d5e-a36d-9c2635015ac0"
      },
      "execution_count": null,
      "outputs": [
        {
          "output_type": "stream",
          "name": "stdout",
          "text": [
            "('x', 5, 3, 'six')\n",
            "x 5\n",
            "5 3\n",
            "3 six\n"
          ]
        }
      ]
    },
    {
      "cell_type": "code",
      "source": [
        "l[0] = 'ten' # modify list\n",
        "print(l)"
      ],
      "metadata": {
        "colab": {
          "base_uri": "https://localhost:8080/"
        },
        "id": "FGZ8ZE3Lo-uB",
        "outputId": "414d104a-ec58-4902-aed6-9aa4836f9a0a"
      },
      "execution_count": null,
      "outputs": [
        {
          "output_type": "stream",
          "name": "stdout",
          "text": [
            "['ten', 5, 3, 'six']\n"
          ]
        }
      ]
    },
    {
      "cell_type": "code",
      "source": [
        "print(l == ['ten', 5, 3, 'six']) # list equality\n",
        "print(l == ['ten', 6, 3, 'six'])"
      ],
      "metadata": {
        "colab": {
          "base_uri": "https://localhost:8080/"
        },
        "id": "XtNFRT9DpcKx",
        "outputId": "7a1141ee-21be-4061-c3b0-582f5d629182"
      },
      "execution_count": null,
      "outputs": [
        {
          "output_type": "stream",
          "name": "stdout",
          "text": [
            "True\n",
            "False\n"
          ]
        }
      ]
    },
    {
      "cell_type": "code",
      "source": [
        "tpl[0] = 'ten' # \"try to\" modify tuple\n",
        "print(tpl)"
      ],
      "metadata": {
        "colab": {
          "base_uri": "https://localhost:8080/",
          "height": 183
        },
        "id": "Xsj1Bt-EpDhY",
        "outputId": "2abe0abb-8999-4754-87f9-16944be031be"
      },
      "execution_count": null,
      "outputs": [
        {
          "output_type": "error",
          "ename": "TypeError",
          "evalue": "ignored",
          "traceback": [
            "\u001b[0;31m---------------------------------------------------------------------------\u001b[0m",
            "\u001b[0;31mTypeError\u001b[0m                                 Traceback (most recent call last)",
            "\u001b[0;32m<ipython-input-57-b236ea5b60c8>\u001b[0m in \u001b[0;36m<module>\u001b[0;34m()\u001b[0m\n\u001b[0;32m----> 1\u001b[0;31m \u001b[0mtpl\u001b[0m\u001b[0;34m[\u001b[0m\u001b[0;36m0\u001b[0m\u001b[0;34m]\u001b[0m \u001b[0;34m=\u001b[0m \u001b[0;34m'ten'\u001b[0m\u001b[0;34m\u001b[0m\u001b[0;34m\u001b[0m\u001b[0m\n\u001b[0m\u001b[1;32m      2\u001b[0m \u001b[0mprint\u001b[0m\u001b[0;34m(\u001b[0m\u001b[0mtpl\u001b[0m\u001b[0;34m)\u001b[0m\u001b[0;34m\u001b[0m\u001b[0;34m\u001b[0m\u001b[0m\n",
            "\u001b[0;31mTypeError\u001b[0m: 'tuple' object does not support item assignment"
          ]
        }
      ]
    },
    {
      "cell_type": "code",
      "source": [
        "st = set(['x', 5, 3, 'six']) # set\n",
        "\n",
        "print(st)"
      ],
      "metadata": {
        "colab": {
          "base_uri": "https://localhost:8080/"
        },
        "id": "OkbuQBaepK1X",
        "outputId": "74fcac71-12ad-4314-d50f-04c6499931af"
      },
      "execution_count": null,
      "outputs": [
        {
          "output_type": "stream",
          "name": "stdout",
          "text": [
            "{3, 5, 'x', 'six'}\n"
          ]
        }
      ]
    },
    {
      "cell_type": "code",
      "source": [
        "st.add('x')\n",
        "print(st)"
      ],
      "metadata": {
        "colab": {
          "base_uri": "https://localhost:8080/"
        },
        "id": "q1nMeUurpTFZ",
        "outputId": "65b18926-7e2a-416b-c357-166801ce0fe3"
      },
      "execution_count": null,
      "outputs": [
        {
          "output_type": "stream",
          "name": "stdout",
          "text": [
            "{3, 5, 'x', 'six'}\n"
          ]
        }
      ]
    },
    {
      "cell_type": "code",
      "source": [
        "st[0] # 'try to' access set by index"
      ],
      "metadata": {
        "colab": {
          "base_uri": "https://localhost:8080/",
          "height": 166
        },
        "id": "akN1D6ukqli2",
        "outputId": "e8578300-4887-415f-fc69-54f0a7ca9a1b"
      },
      "execution_count": null,
      "outputs": [
        {
          "output_type": "error",
          "ename": "TypeError",
          "evalue": "ignored",
          "traceback": [
            "\u001b[0;31m---------------------------------------------------------------------------\u001b[0m",
            "\u001b[0;31mTypeError\u001b[0m                                 Traceback (most recent call last)",
            "\u001b[0;32m<ipython-input-71-028cc1d9138b>\u001b[0m in \u001b[0;36m<module>\u001b[0;34m()\u001b[0m\n\u001b[0;32m----> 1\u001b[0;31m \u001b[0mst\u001b[0m\u001b[0;34m[\u001b[0m\u001b[0;36m0\u001b[0m\u001b[0;34m]\u001b[0m\u001b[0;34m\u001b[0m\u001b[0;34m\u001b[0m\u001b[0m\n\u001b[0m",
            "\u001b[0;31mTypeError\u001b[0m: 'set' object is not subscriptable"
          ]
        }
      ]
    },
    {
      "cell_type": "code",
      "source": [
        "for element in st: # loop thru set\n",
        "  print(element)"
      ],
      "metadata": {
        "colab": {
          "base_uri": "https://localhost:8080/"
        },
        "id": "7oX-VubXp81C",
        "outputId": "3c24cb66-2179-41d7-87cf-fdc34275a1c1"
      },
      "execution_count": null,
      "outputs": [
        {
          "output_type": "stream",
          "name": "stdout",
          "text": [
            "3\n",
            "5\n",
            "x\n",
            "six\n"
          ]
        }
      ]
    },
    {
      "cell_type": "code",
      "source": [
        "sttol = list(st) # convert set to list\n",
        "print(sttol)"
      ],
      "metadata": {
        "colab": {
          "base_uri": "https://localhost:8080/"
        },
        "id": "m6KdW7Pzp0-Q",
        "outputId": "99750267-b50b-4b51-d442-1bb1afee4120"
      },
      "execution_count": null,
      "outputs": [
        {
          "output_type": "stream",
          "name": "stdout",
          "text": [
            "[3, 5, 'x', 'six']\n"
          ]
        }
      ]
    },
    {
      "cell_type": "code",
      "source": [
        "dct = {} # dictionary\n",
        "\n",
        "dct['bill'] = 'ni'\n",
        "dct['abir'] = 'taheer' # assigning keys values\n",
        "\n",
        "print(dct['bill']) # looking up values from keys"
      ],
      "metadata": {
        "colab": {
          "base_uri": "https://localhost:8080/"
        },
        "id": "mX0VbPonqaLY",
        "outputId": "ec73a0ce-ee76-402a-ebea-98a5ea0d1cce"
      },
      "execution_count": null,
      "outputs": [
        {
          "output_type": "stream",
          "name": "stdout",
          "text": [
            "ni\n"
          ]
        }
      ]
    },
    {
      "cell_type": "code",
      "source": [
        "for key in dct:\n",
        "  print(key + ' ' + dct[key]) # looping thru a dictionary"
      ],
      "metadata": {
        "colab": {
          "base_uri": "https://localhost:8080/"
        },
        "id": "dk7CJWQJq2ro",
        "outputId": "6cf9b93e-b3d1-4989-c014-f730cd421246"
      },
      "execution_count": null,
      "outputs": [
        {
          "output_type": "stream",
          "name": "stdout",
          "text": [
            "bill ni\n",
            "abir taheer\n"
          ]
        }
      ]
    }
  ]
}